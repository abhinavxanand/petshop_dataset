{
 "cells": [
  {
   "cell_type": "code",
   "execution_count": 1,
   "id": "7f30e5cc",
   "metadata": {},
   "outputs": [
    {
     "name": "stdout",
     "output_type": "stream",
     "text": [
      "high_traffic q0.1: 668.0\n",
      "high_traffic q0.5: 688.0\n",
      "high_traffic q0.9: 714.0\n",
      "high_traffic min: [634.] max: [737.]  mean: 689.6876061120544 cnt: 589\n",
      "low_traffic q0.1: 464.0\n",
      "low_traffic q0.5: 483.0\n",
      "low_traffic q0.9: 503.0\n",
      "low_traffic min: [430.] max: [1193.]  mean: 484.25297113752123 cnt: 589\n",
      "temporal_traffic1 q0.1: 376.0\n",
      "temporal_traffic1 q0.5: 496.5\n",
      "temporal_traffic1 q0.9: 884.6000000000004\n",
      "temporal_traffic1 min: [325.] max: [1426.]  mean: 571.4691283292979 cnt: 1652\n"
     ]
    }
   ],
   "source": [
    "import numpy as np\n",
    "import pandas as pd\n",
    "\n",
    "#Prints out the quantiles for the requests\n",
    "for scenario in ['high_traffic', 'low_traffic', 'temporal_traffic1']:\n",
    "    metrics = pd.read_csv(f'../dataset/{scenario}/noissue/metrics.csv', header=[0, 1, 2], index_col=0)\n",
    "    req = metrics.loc[:, ([\"PetSite\"], [\"requests\"], [\"Sum\"])].values \n",
    "    for quantile in [0.1, 0.5, 0.9]:\n",
    "        \n",
    "        print(f\"{scenario} q{quantile}: {np.quantile(req, quantile)}\")\n",
    "    print(f\"{scenario} min: {min(req)} max: {max(req)}  mean: {np.mean(req)} cnt: {len(req)}\")\n"
   ]
  }
 ],
 "metadata": {
  "kernelspec": {
   "display_name": "rca",
   "language": "python",
   "name": "rca"
  },
  "language_info": {
   "codemirror_mode": {
    "name": "ipython",
    "version": 3
   },
   "file_extension": ".py",
   "mimetype": "text/x-python",
   "name": "python",
   "nbconvert_exporter": "python",
   "pygments_lexer": "ipython3",
   "version": "3.8.16"
  }
 },
 "nbformat": 4,
 "nbformat_minor": 5
}
