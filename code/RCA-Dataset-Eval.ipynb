{
 "cells": [
  {
   "cell_type": "markdown",
   "id": "ffa37d53",
   "metadata": {},
   "source": [
    "# RCA - Benchmarks"
   ]
  },
  {
   "cell_type": "code",
   "execution_count": null,
   "id": "fb58f0a5",
   "metadata": {},
   "outputs": [],
   "source": [
    "import numpy as np\n",
    "import rca_task\n",
    "import baseline_anomaly_traversal as baseline\n",
    "from dowhy.gcm.anomaly_scorers import MeanDeviationScorer, ITAnomalyScorer, MedianDeviationScorer, \\\n",
    "    RescaledMedianCDFQuantileScorer"
   ]
  },
  {
   "cell_type": "code",
   "execution_count": null,
   "id": "d04c9e00",
   "metadata": {},
   "outputs": [],
   "source": [
    "anomaly_detection_config_mad_score = baseline.AnomalyDetectionConfig(anomaly_scorer=MedianDeviationScorer,\n",
    "                                                            convert_to_p_value=False,\n",
    "                                                            anomaly_score_threshold=5,\n",
    "                                                            description='MADScore')\n",
    "baseline_method = baseline.make_baseline_analyze_root_causes(anomaly_detection_config_mad_score)\n",
    "df = rca_task.evaluate(baseline_method, '../dataset')"
   ]
  },
  {
   "cell_type": "code",
   "execution_count": 3,
   "id": "41bc9df9",
   "metadata": {},
   "outputs": [
    {
     "name": "stdout",
     "output_type": "stream",
     "text": [
      "for low_traffic with latency with 14 (0.21 empty) many issues at top1 got 0.571\n",
      "for low_traffic with latency with 14 (0.21 empty) many issues at top3 got 0.571\n",
      "for low_traffic with availability with 12 (0.00 empty) many issues at top1 got 0.833\n",
      "for low_traffic with availability with 12 (0.00 empty) many issues at top3 got 1.000\n",
      "for high_traffic with latency with 14 (0.14 empty) many issues at top1 got 0.571\n",
      "for high_traffic with latency with 14 (0.14 empty) many issues at top3 got 0.786\n",
      "for high_traffic with availability with 12 (0.00 empty) many issues at top1 got 0.667\n",
      "for high_traffic with availability with 12 (0.00 empty) many issues at top3 got 1.000\n",
      "for temporal_traffic with latency with 8 (0.00 empty) many issues at top1 got 1.000\n",
      "for temporal_traffic with latency with 8 (0.00 empty) many issues at top3 got 1.000\n",
      "for temporal_traffic with availability with 8 (0.00 empty) many issues at top1 got 0.750\n",
      "for temporal_traffic with availability with 8 (0.00 empty) many issues at top3 got 1.000\n"
     ]
    }
   ],
   "source": [
    "for scenario in [\"low_traffic\", \"high_traffic\", \"temporal_traffic\"]:\n",
    "    for issue_metric in ['latency', 'availability']:\n",
    "        df_sel = df[df['scenario'].str.startswith(scenario)]\n",
    "        df_sel = df_sel[df_sel['metric'] == issue_metric]\n",
    "        for k in [1, 3]:\n",
    "            df_sel_k = df_sel[df_sel['topk'] == k]\n",
    "            size_all = len(df_sel_k.intopk)\n",
    "            res = np.mean(df_sel_k.intopk)\n",
    "            size = len(df_sel_k.intopk)\n",
    "            filtered = len(df_sel_k[df_sel_k['empty'] == True]) / size_all\n",
    "            print(f\"for {scenario} with {issue_metric} with {size_all} ({filtered:.2f} empty) many issues at top{k} got {res:.3f}\")\n",
    "        "
   ]
  },
  {
   "cell_type": "markdown",
   "id": "243e56be",
   "metadata": {},
   "source": [
    "### Evaluate Specificity on normal operations"
   ]
  },
  {
   "cell_type": "code",
   "execution_count": null,
   "id": "edada6fb",
   "metadata": {},
   "outputs": [],
   "source": [
    "df_specifcity = rca_task.evaluate_specificity(baseline_method, '../dataset')"
   ]
  },
  {
   "cell_type": "code",
   "execution_count": 5,
   "id": "b756ae5e",
   "metadata": {},
   "outputs": [
    {
     "name": "stdout",
     "output_type": "stream",
     "text": [
      "for low_traffic with latency got specificity of 0.167\n",
      "for low_traffic with availability got specificity of 1.000\n",
      "for high_traffic with latency got specificity of 0.333\n",
      "for high_traffic with availability got specificity of 1.000\n",
      "for temporal_traffic with latency got specificity of 0.600\n",
      "for temporal_traffic with availability got specificity of 1.000\n"
     ]
    }
   ],
   "source": [
    "for scenario in [\"low_traffic\", \"high_traffic\", \"temporal_traffic\"]:\n",
    "    for issue_metric in ['latency', 'availability']:\n",
    "        df_sel = df_specifcity[df_specifcity['scenario'].str.startswith(scenario)]\n",
    "        df_sel = df_sel[df_sel['metric'] == issue_metric]\n",
    "        print(f\"for {scenario} with {issue_metric} got specificity of {np.mean(df_sel.specificity):.3f}\")\n"
   ]
  },
  {
   "cell_type": "code",
   "execution_count": null,
   "id": "75bfeed8",
   "metadata": {},
   "outputs": [],
   "source": []
  }
 ],
 "metadata": {
  "kernelspec": {
   "display_name": "benchmark",
   "language": "python",
   "name": "benchmark"
  },
  "language_info": {
   "codemirror_mode": {
    "name": "ipython",
    "version": 3
   },
   "file_extension": ".py",
   "mimetype": "text/x-python",
   "name": "python",
   "nbconvert_exporter": "python",
   "pygments_lexer": "ipython3",
   "version": "3.10.13"
  }
 },
 "nbformat": 4,
 "nbformat_minor": 5
}
